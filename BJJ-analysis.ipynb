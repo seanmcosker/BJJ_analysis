{
 "cells": [
  {
   "cell_type": "code",
   "execution_count": 1,
   "metadata": {},
   "outputs": [
    {
     "name": "stderr",
     "output_type": "stream",
     "text": [
      "/Users/seanm/opt/anaconda3/envs/SummerEnv/lib/python3.8/site-packages/requests/__init__.py:102: RequestsDependencyWarning: urllib3 (1.26.9) or chardet (5.0.0)/charset_normalizer (2.0.4) doesn't match a supported version!\n",
      "  warnings.warn(\"urllib3 ({}) or chardet ({})/charset_normalizer ({}) doesn't match a supported \"\n"
     ]
    }
   ],
   "source": [
    "import requests\n",
    "import pandas as pd\n",
    "from bs4 import BeautifulSoup\n",
    "import re\n",
    "import matplotlib.pyplot as plt\n",
    "plt.rcdefaults()\n",
    "\n"
   ]
  },
  {
   "cell_type": "code",
   "execution_count": null,
   "metadata": {},
   "outputs": [],
   "source": [
    "submission_dict = {}\n",
    "fighters = []"
   ]
  },
  {
   "attachments": {},
   "cell_type": "markdown",
   "metadata": {},
   "source": [
    "Much credit to CGRetriever on Github, who I copied most of this webscraper from. \n",
    "\n",
    "https://github.com/CGRetriever/BJJ_Submission_Analysis/blob/master/BJJSubAnalyzer.py\n",
    "\n"
   ]
  },
  {
   "cell_type": "code",
   "execution_count": null,
   "metadata": {},
   "outputs": [],
   "source": [
    "def submission_counter(submission, increment):\n",
    "    # Making sure the increment variable is an int\n",
    "    increment = int(increment)\n",
    "\n",
    "    # This will attempt to increment the counter for the submission. If the submission does not exist then it will\n",
    "    # add it to the dictionary instead (via the except loop)\n",
    "    try:\n",
    "        submission_dictionary[submission] += int(increment)\n",
    "    except KeyError:\n",
    "        submission_dictionary[submission] = int(increment)"
   ]
  },
  {
   "cell_type": "code",
   "execution_count": null,
   "metadata": {},
   "outputs": [],
   "source": [
    "def get_fighters():\n",
    "    # This will be grab the information from the bjjheroes website so that we can parse it\n",
    "    page = requests.get(\n",
    "        \"https://www.bjjheroes.com/a-z-bjj-fighters-list\")\n",
    "    fighter_soup = BeautifulSoup(page.content, 'html.parser')\n",
    "\n",
    "    # Search through the html for the first and last name of the fighters\n",
    "    fighters_first_name = fighter_soup.find_all(\"td\", class_='column-1')\n",
    "    fighters_last_name = fighter_soup.find_all(\"td\", class_='column-2')\n",
    "\n",
    "    # Weird ass regex stuff. I don't understand it, I just copy and pasted this\n",
    "    marker1 = \">\"\n",
    "    marker2 = \"<\"\n",
    "    regexExpression = marker1 + '(.+?)' + marker2\n",
    "\n",
    "    # This for loop is to create a full name for each fighter so that we can query the URLs with\n",
    "    # each fighter's name\n",
    "    for i, x in zip(fighters_first_name, fighters_last_name):\n",
    "        tempFirst = str(i)\n",
    "        tempLast = str(x)\n",
    "\n",
    "        firstString = re.search(regexExpression, tempFirst).group(1)\n",
    "        firstString = firstString.split(\">\")\n",
    "\n",
    "        lastString = re.search(regexExpression, tempLast).group(1)\n",
    "        lastString = lastString.split(\">\")\n",
    "        fullname = firstString[1] + \"-\" + lastString[1]\n",
    "        print(fullname)\n",
    "        fighter_roster.append(fullname)\n",
    "        web_scrape(fullname)\n"
   ]
  },
  {
   "cell_type": "code",
   "execution_count": null,
   "metadata": {},
   "outputs": [],
   "source": [
    "def web_scrape(fighter):\n",
    "    # This sets up the intial request to the site that we want to pull data from\n",
    "    page = requests.get(\n",
    "        \"https://www.bjjheroes.com/bjj-fighters/\" + fighter)\n",
    "    soup = BeautifulSoup(page.content, 'html.parser')\n",
    "\n",
    "    # print(soup)\n",
    "\n",
    "    submissions_html = soup.find_all(\"div\", class_='text')\n",
    "    submission_numbers = soup.find_all(\"div\", class_='totalvalue')\n",
    "    example = soup.find_all(id=\"donut_value\")\n",
    "    marker1 = \">\"\n",
    "    marker2 = \"<\"\n",
    "    regexExpression = marker1 + '(.+?)' + marker2\n",
    "\n",
    "    for i, x in zip(submissions_html, submission_numbers):\n",
    "        tempSubStr = str(i)\n",
    "        tempNumStr = str(x)\n",
    "        submissionString = re.search(regexExpression, tempSubStr).group(1)\n",
    "        numberString = re.search(regexExpression, tempNumStr).group(1)\n",
    "        submission_counter(submissionString, numberString)\n",
    "\n",
    "    print(submission_dictionary)"
   ]
  },
  {
   "cell_type": "code",
   "execution_count": null,
   "metadata": {},
   "outputs": [],
   "source": []
  }
 ],
 "metadata": {
  "kernelspec": {
   "display_name": "SummerEnv",
   "language": "python",
   "name": "summerenv"
  },
  "language_info": {
   "codemirror_mode": {
    "name": "ipython",
    "version": 3
   },
   "file_extension": ".py",
   "mimetype": "text/x-python",
   "name": "python",
   "nbconvert_exporter": "python",
   "pygments_lexer": "ipython3",
   "version": "3.8.13"
  },
  "orig_nbformat": 4
 },
 "nbformat": 4,
 "nbformat_minor": 2
}
